{
 "cells": [
  {
   "cell_type": "code",
   "execution_count": 89,
   "metadata": {
    "collapsed": true
   },
   "outputs": [],
   "source": [
    "# Dependencies\n",
    "import numpy as np\n",
    "import pandas as pd\n",
    "import matplotlib.pyplot as plt\n",
    "import json\n",
    "import tweepy\n",
    "import time\n",
    "import seaborn as sns\n",
    "from textblob import TextBlob\n",
    "# Import and Initialize Sentiment Analyzer\n",
    "from vaderSentiment.vaderSentiment import SentimentIntensityAnalyzer\n",
    "analyzer = SentimentIntensityAnalyzer()\n",
    "\n",
    "# Twitter API Keys\n",
    "consumer_key = \"NGRhsDF0LQwA60z7eBigJvfLY\"\n",
    "consumer_secret = \"4JBpQEHIbsCmIZhPlTb94q7cUCMTvYeNhUCH0cjqgu3Ney1Gvk\"\n",
    "access_token = \"975059013292339200-jCjFWdC5YSgkhaRnpbQebYrdNxQWLIW\"\n",
    "access_token_secret = \"QeWaEBYppYrFMOI82As3kV7RAYSKQ5EJGX87voED49ynD\"\n",
    "\n",
    "# Setup Tweepy API Authentication\n",
    "auth = tweepy.OAuthHandler(consumer_key, consumer_secret)\n",
    "auth.set_access_token(access_token, access_token_secret)\n",
    "api = tweepy.API(auth, parser=tweepy.parsers.JSONParser())"
   ]
  },
  {
   "cell_type": "code",
   "execution_count": 90,
   "metadata": {},
   "outputs": [],
   "source": [
    "#Target users\n",
    "target_users = [\"@BBC\",\"@CBS\", \"@CNN\", \"@FOXTV\", \"@nytimes\"]\n",
    "\n",
    "# Variables for holding sentiments\n",
    "sentiments = []\n",
    "\n",
    "#Loop through all target users:\n",
    "for target_user in target_users:\n",
    "    # Counter\n",
    "    counter = 1\n",
    "\n",
    "        # Loop through 5 pages of tweets (total 100 tweets)\n",
    "    for x in range(5):\n",
    "\n",
    "        # Get all tweets from home feed\n",
    "        public_tweets = api.user_timeline(target_user)\n",
    "        # Loop through all tweets \n",
    "        for tweet in public_tweets:\n",
    "\n",
    "            # Run Vader Analysis on each tweet\n",
    "            compound = analyzer.polarity_scores(tweet[\"text\"])[\"compound\"]\n",
    "            pos = analyzer.polarity_scores(tweet[\"text\"])[\"pos\"]\n",
    "            neu = analyzer.polarity_scores(tweet[\"text\"])[\"neu\"]\n",
    "            neg = analyzer.polarity_scores(tweet[\"text\"])[\"neg\"]\n",
    "            tweets_ago = counter\n",
    "\n",
    "            # Add sentiments for each tweet into an array\n",
    "            sentiments.append({\"Tweet\":tweet[\"text\"],\n",
    "                               \"Date\": tweet[\"created_at\"], \n",
    "                               \"Compound\": compound,\n",
    "                               \"Positive\": pos,\n",
    "                               \"Negative\": neu,\n",
    "                               \"Neutral\": neg,\n",
    "                               \"Tweets Ago\": counter,\n",
    "                              \"Media Source\":tweet[\"user\"][\"name\"]})\n",
    "\n",
    "            # Add to counter \n",
    "            counter = counter + 1"
   ]
  },
  {
   "cell_type": "code",
   "execution_count": 91,
   "metadata": {},
   "outputs": [
    {
     "data": {
      "text/html": [
       "<div>\n",
       "<style>\n",
       "    .dataframe thead tr:only-child th {\n",
       "        text-align: right;\n",
       "    }\n",
       "\n",
       "    .dataframe thead th {\n",
       "        text-align: left;\n",
       "    }\n",
       "\n",
       "    .dataframe tbody tr th {\n",
       "        vertical-align: top;\n",
       "    }\n",
       "</style>\n",
       "<table border=\"1\" class=\"dataframe\">\n",
       "  <thead>\n",
       "    <tr style=\"text-align: right;\">\n",
       "      <th></th>\n",
       "      <th>Compound</th>\n",
       "      <th>Date</th>\n",
       "      <th>Media Source</th>\n",
       "      <th>Negative</th>\n",
       "      <th>Neutral</th>\n",
       "      <th>Positive</th>\n",
       "      <th>Tweet</th>\n",
       "      <th>Tweets Ago</th>\n",
       "    </tr>\n",
       "  </thead>\n",
       "  <tbody>\n",
       "    <tr>\n",
       "      <th>0</th>\n",
       "      <td>0.784</td>\n",
       "      <td>Thu Mar 29 08:00:12 +0000 2018</td>\n",
       "      <td>BBC</td>\n",
       "      <td>0.655</td>\n",
       "      <td>0.0</td>\n",
       "      <td>0.345</td>\n",
       "      <td>🐶❤️ Biscuit the robotic pup is helping the eld...</td>\n",
       "      <td>1</td>\n",
       "    </tr>\n",
       "    <tr>\n",
       "      <th>1</th>\n",
       "      <td>0.000</td>\n",
       "      <td>Thu Mar 29 07:27:07 +0000 2018</td>\n",
       "      <td>BBC</td>\n",
       "      <td>1.000</td>\n",
       "      <td>0.0</td>\n",
       "      <td>0.000</td>\n",
       "      <td>👀🌸 The world famous cherry blossoms of Japan b...</td>\n",
       "      <td>2</td>\n",
       "    </tr>\n",
       "    <tr>\n",
       "      <th>2</th>\n",
       "      <td>0.000</td>\n",
       "      <td>Thu Mar 29 07:00:10 +0000 2018</td>\n",
       "      <td>BBC</td>\n",
       "      <td>1.000</td>\n",
       "      <td>0.0</td>\n",
       "      <td>0.000</td>\n",
       "      <td>What do you get if you cross a polar bear and ...</td>\n",
       "      <td>3</td>\n",
       "    </tr>\n",
       "    <tr>\n",
       "      <th>3</th>\n",
       "      <td>0.000</td>\n",
       "      <td>Wed Mar 28 18:00:05 +0000 2018</td>\n",
       "      <td>BBC</td>\n",
       "      <td>1.000</td>\n",
       "      <td>0.0</td>\n",
       "      <td>0.000</td>\n",
       "      <td>🇮🇪 This 800-year-old hotel in Ireland is simpl...</td>\n",
       "      <td>4</td>\n",
       "    </tr>\n",
       "    <tr>\n",
       "      <th>4</th>\n",
       "      <td>0.296</td>\n",
       "      <td>Wed Mar 28 17:00:12 +0000 2018</td>\n",
       "      <td>BBC</td>\n",
       "      <td>0.891</td>\n",
       "      <td>0.0</td>\n",
       "      <td>0.109</td>\n",
       "      <td>📚 'Words do not live in dictionaries. They liv...</td>\n",
       "      <td>5</td>\n",
       "    </tr>\n",
       "  </tbody>\n",
       "</table>\n",
       "</div>"
      ],
      "text/plain": [
       "   Compound                            Date Media Source  Negative  Neutral  \\\n",
       "0     0.784  Thu Mar 29 08:00:12 +0000 2018          BBC     0.655      0.0   \n",
       "1     0.000  Thu Mar 29 07:27:07 +0000 2018          BBC     1.000      0.0   \n",
       "2     0.000  Thu Mar 29 07:00:10 +0000 2018          BBC     1.000      0.0   \n",
       "3     0.000  Wed Mar 28 18:00:05 +0000 2018          BBC     1.000      0.0   \n",
       "4     0.296  Wed Mar 28 17:00:12 +0000 2018          BBC     0.891      0.0   \n",
       "\n",
       "   Positive                                              Tweet  Tweets Ago  \n",
       "0     0.345  🐶❤️ Biscuit the robotic pup is helping the eld...           1  \n",
       "1     0.000  👀🌸 The world famous cherry blossoms of Japan b...           2  \n",
       "2     0.000  What do you get if you cross a polar bear and ...           3  \n",
       "3     0.000  🇮🇪 This 800-year-old hotel in Ireland is simpl...           4  \n",
       "4     0.109  📚 'Words do not live in dictionaries. They liv...           5  "
      ]
     },
     "execution_count": 91,
     "metadata": {},
     "output_type": "execute_result"
    }
   ],
   "source": [
    "# Convert sentiments to DataFrame\n",
    "sentiments_pd = pd.DataFrame.from_dict(sentiments)\n",
    "sentiments_pd.head()"
   ]
  },
  {
   "cell_type": "code",
   "execution_count": 92,
   "metadata": {
    "collapsed": true
   },
   "outputs": [],
   "source": [
    "#Export Twitter Data to CSV File\n",
    "sentiments_pd.to_csv('twitter_news.csv', encoding='utf-8', index=False)"
   ]
  },
  {
   "cell_type": "code",
   "execution_count": 93,
   "metadata": {},
   "outputs": [
    {
     "data": {
      "image/png": "[encoded data removed]",
      "text/plain": [
       "<matplotlib.figure.Figure at 0x1a25f69a58>"
      ]
     },
     "metadata": {},
     "output_type": "display_data"
    }
   ],
   "source": [
    "#Create Scatter plot for sentiment analysis of 100 tweets for all media sources\n",
    "sn_plot = sns.lmplot(x=\"Tweets Ago\", y=\"Compound\", hue = 'Media Source', data=sentiments_pd, fit_reg=False,\n",
    "           legend=True, legend_out=True, aspect=1.5, scatter_kws = {'alpha':0.8, 'linewidths':1, 'edgecolor':'black', 'marker':'o'}, \n",
    "                     palette={\"BBC\":\"skyblue\", \"CBS\":\"green\", \"CNN\":\"red\", \"FOX\":\"blue\", \"The New York Times\":\"yellow\"})\n",
    "plt.gca().invert_xaxis()\n",
    "# Incorporate the other graph properties\n",
    "plt.title(\"Sentiment Analysis of Media Tweets (03/29/2018)\")\n",
    "plt.ylabel(\"Tweet Polarity\")\n",
    "plt.xlabel(\"Tweets Ago\")\n",
    "plt.grid(True)\n",
    "plt.savefig('Sentiment_Analysis.png')\n",
    "plt.show()"
   ]
  },
  {
   "cell_type": "code",
   "execution_count": 94,
   "metadata": {},
   "outputs": [
    {
     "data": {
      "text/html": [
       "<div>\n",
       "<style>\n",
       "    .dataframe thead tr:only-child th {\n",
       "        text-align: right;\n",
       "    }\n",
       "\n",
       "    .dataframe thead th {\n",
       "        text-align: left;\n",
       "    }\n",
       "\n",
       "    .dataframe tbody tr th {\n",
       "        vertical-align: top;\n",
       "    }\n",
       "</style>\n",
       "<table border=\"1\" class=\"dataframe\">\n",
       "  <thead>\n",
       "    <tr style=\"text-align: right;\">\n",
       "      <th></th>\n",
       "      <th>Overall Sentiment Score</th>\n",
       "    </tr>\n",
       "    <tr>\n",
       "      <th>Media Source</th>\n",
       "      <th></th>\n",
       "    </tr>\n",
       "  </thead>\n",
       "  <tbody>\n",
       "    <tr>\n",
       "      <th>BBC</th>\n",
       "      <td>0.015345</td>\n",
       "    </tr>\n",
       "    <tr>\n",
       "      <th>CBS</th>\n",
       "      <td>0.398875</td>\n",
       "    </tr>\n",
       "    <tr>\n",
       "      <th>CNN</th>\n",
       "      <td>-0.080540</td>\n",
       "    </tr>\n",
       "    <tr>\n",
       "      <th>FOX</th>\n",
       "      <td>0.163785</td>\n",
       "    </tr>\n",
       "    <tr>\n",
       "      <th>The New York Times</th>\n",
       "      <td>0.019965</td>\n",
       "    </tr>\n",
       "  </tbody>\n",
       "</table>\n",
       "</div>"
      ],
      "text/plain": [
       "                    Overall Sentiment Score\n",
       "Media Source                               \n",
       "BBC                                0.015345\n",
       "CBS                                0.398875\n",
       "CNN                               -0.080540\n",
       "FOX                                0.163785\n",
       "The New York Times                 0.019965"
      ]
     },
     "execution_count": 94,
     "metadata": {},
     "output_type": "execute_result"
    }
   ],
   "source": [
    "#Create dataframe for overall sentiment\n",
    "overall_sentiments = sentiments_pd.groupby(['Media Source']).mean()['Compound']\n",
    "overall_sentiments_df = pd.DataFrame({\"Overall Sentiment Score\": overall_sentiments})\n",
    "overall_sentiments_df.head()\n"
   ]
  },
  {
   "cell_type": "code",
   "execution_count": 95,
   "metadata": {},
   "outputs": [
    {
     "data": {
      "image/png": "[encoded data removed]",
      "text/plain": [
       "<matplotlib.figure.Figure at 0x1a24b4c6a0>"
      ]
     },
     "metadata": {},
     "output_type": "display_data"
    }
   ],
   "source": [
    "#Create a Bar Plot for overall Sentiment analysis\n",
    "sn_plot = sns.barplot(x=overall_sentiments_df.index, y=overall_sentiments_df['Overall Sentiment Score'], \n",
    "                      data=overall_sentiments_df, palette={\"BBC\":\"skyblue\", \"CBS\":\"green\", \"CNN\":\"red\", \"FOX\":\"blue\", \"The New York Times\":\"yellow\"}, \n",
    "                      alpha=0.8, linewidth=1)\n",
    "\n",
    "# Incorporate the other graph properties\n",
    "plt.title(\"Overall Media Sentiment based on Twitter (03/29/2018)\")\n",
    "plt.ylabel(\"Tweet Polarity\")\n",
    "\n",
    "plt.savefig('Overall_Sentiment_Analysis.png')\n",
    "plt.show()\n",
    "\n"
   ]
  },
  {
   "cell_type": "code",
   "execution_count": null,
   "metadata": {
    "collapsed": true
   },
   "outputs": [],
   "source": []
  }
 ],
 "metadata": {
  "kernelspec": {
   "display_name": "Python 3",
   "language": "python",
   "name": "python3"
  },
  "language_info": {
   "codemirror_mode": {
    "name": "ipython",
    "version": 3
   },
   "file_extension": ".py",
   "mimetype": "text/x-python",
   "name": "python",
   "nbconvert_exporter": "python",
   "pygments_lexer": "ipython3",
   "version": "3.6.3"
  }
 },
 "nbformat": 4,
 "nbformat_minor": 2
}
